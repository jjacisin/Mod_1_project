{
 "cells": [
  {
   "cell_type": "markdown",
   "metadata": {},
   "source": [
    "# NYC COMPLAINT VISUALIZATION:  JANUARY - JUNE 2018"
   ]
  },
  {
   "cell_type": "markdown",
   "metadata": {},
   "source": [
    "[insert NYC Complaint Data Image]"
   ]
  },
  {
   "cell_type": "markdown",
   "metadata": {},
   "source": [
    "Using NYC Open Data, create an app that includes multiple visualizations, including a location-based heatmap, of all valid felony, misdemeanor, and violation crimes reported to the New York City Police Department (NYPD) in the first half of 2018."
   ]
  },
  {
   "cell_type": "markdown",
   "metadata": {},
   "source": [
    "## Motivation"
   ]
  },
  {
   "cell_type": "markdown",
   "metadata": {},
   "source": [
    "The goal of this project is to explore the complaint data provided by NYPD and make meaningful observations using a visually appealing and interesting web app, while creating a relational database that is actively referenced by the app. "
   ]
  },
  {
   "cell_type": "markdown",
   "metadata": {},
   "source": [
    "## Background Information"
   ]
  },
  {
   "cell_type": "markdown",
   "metadata": {},
   "source": [
    "NYC Open Data is the preeminent source for a trove of data sets for New York City. With over 1200 datasets avaialble, it provides information on many of the city's hundreds of departments and allows for anyone willing to delve into a topic of their choosing to understand the city through its vast data resources. \n",
    "\n",
    "All of this information is given so that the government and people of New York can better understand a immensely complex society and for others to potentially provide ideas and innovations to improve living in the city.\n",
    "\n"
   ]
  },
  {
   "cell_type": "markdown",
   "metadata": {},
   "source": [
    "## Data Extraction and Storage"
   ]
  },
  {
   "cell_type": "markdown",
   "metadata": {},
   "source": [
    "My first step was choosing which dataset that would provide the complexity and diversity of information for the scale of a project of this nature, yet also being accessible enough for my first attempt at exploring a data science-type project. \n",
    "\n",
    "The complaint data provided ~229,000 unique entries spanning the first six months of 2018 and included a variety of data points including a categorized crime description, the latitude and longitude coordinates of the complaint, complaint date, and high-level suspect and victim information.\n",
    "\n",
    "The data was pulled using the Open Data's API, filtered through a custom-built OOP program, and stored in a SQLite database."
   ]
  },
  {
   "cell_type": "markdown",
   "metadata": {},
   "source": [
    "## Visualization Platform"
   ]
  },
  {
   "cell_type": "markdown",
   "metadata": {},
   "source": [
    "The next step was to utilize the Flask and Dash platforms to create a visually appealing web app to present the data stored within the database. "
   ]
  },
  {
   "cell_type": "markdown",
   "metadata": {},
   "source": [
    "[INSERT CODE SCREENSHOT]"
   ]
  },
  {
   "cell_type": "markdown",
   "metadata": {},
   "source": [
    "### App Initialization"
   ]
  },
  {
   "cell_type": "markdown",
   "metadata": {},
   "source": [
    "    1) App activation file that can be referenced in terminal to begin initialization. \n",
    "    2) Flask initialization:\n",
    "        -- Configures database to app using SQLAlchemy, which will allow the app to perform SQL queries\n",
    "        -- Import Dashboard file\n",
    "    3a) Dashboard Initialization:\n",
    "        -- Imports all relevant SQL queries from the \"dash_queries\" file (see below for more)\n",
    "        -- Import the Dash dependencies in order for relevant Dash classes to operate\n",
    "        -- Create H1 and H2 header for the app's Line/Bar Chart section\n",
    "        -- Line/Bar Chart Tabs:\n",
    "            -- Create five interactive tabs that all a user to review information:\n",
    "                -- Four line graphs separated by borough over time by:\n",
    "                    -- All complaints\n",
    "                    -- Felonies only\n",
    "                    -- Misdemeanors only\n",
    "                    -- Violations only\n",
    "                -- A histogram showing the frequency of crimes by primary description"
   ]
  },
  {
   "cell_type": "markdown",
   "metadata": {},
   "source": [
    "[insert tab screenshot]"
   ]
  },
  {
   "cell_type": "markdown",
   "metadata": {},
   "source": [
    "    3b) Dashboard Initialization:\n",
    "       -- Interactive Cluster Map:\n",
    "           -- Create a drop down of that include all primary descriptions within the database\n",
    "           -- User can search for and select any primary description in the database\n",
    "           -- Selecting a given description will prompt the app to search for a pre-constructed html file* that will show a heat map of the complaint's location.\n",
    "           -- User can:\n",
    "               -- Interact with the map to gain more information about a complaint at a given location\n",
    "               -- Select a new description from the drop down to bring up a new map\n",
    "           \n",
    "*See 'dash_query' file for html file creation"
   ]
  },
  {
   "cell_type": "markdown",
   "metadata": {},
   "source": [
    "[insert cluster map screen shot]"
   ]
  },
  {
   "cell_type": "markdown",
   "metadata": {},
   "source": [
    "## Next Steps"
   ]
  },
  {
   "cell_type": "markdown",
   "metadata": {},
   "source": [
    "    1) Clean up repo folder structure, so file folders are easier to follow\n",
    "    2) Add CSS code to add background color to app"
   ]
  },
  {
   "cell_type": "code",
   "execution_count": null,
   "metadata": {},
   "outputs": [],
   "source": []
  }
 ],
 "metadata": {
  "kernelspec": {
   "display_name": "Python 3",
   "language": "python",
   "name": "python3"
  },
  "language_info": {
   "codemirror_mode": {
    "name": "ipython",
    "version": 3
   },
   "file_extension": ".py",
   "mimetype": "text/x-python",
   "name": "python",
   "nbconvert_exporter": "python",
   "pygments_lexer": "ipython3",
   "version": "3.6.6"
  }
 },
 "nbformat": 4,
 "nbformat_minor": 2
}
